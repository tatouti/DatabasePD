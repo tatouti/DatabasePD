{
 "cells": [
  {
   "cell_type": "markdown",
   "metadata": {},
   "source": [
    "### Import of the libraries "
   ]
  },
  {
   "cell_type": "code",
   "execution_count": 1,
   "metadata": {},
   "outputs": [],
   "source": [
    "# Pandas for data processing \n",
    "import pandas as pd\n",
    "\n",
    "# Library for numpy\n",
    "import numpy as np\n",
    "from numpy import random\n",
    "\n",
    "# Library to get countries codes\n",
    "import pycountry\n",
    "\n",
    "# Regex for string values\n",
    "import re\n",
    "\n",
    "# Library to read zip file\n",
    "import zipfile\n",
    "\n",
    "# Import libraries for visualization\n",
    "import matplotlib.pyplot as plt\n",
    "import seaborn as sns"
   ]
  },
  {
   "cell_type": "markdown",
   "metadata": {},
   "source": [
    "### Loading of the dataset and early cleaning"
   ]
  },
  {
   "cell_type": "code",
   "execution_count": 2,
   "metadata": {},
   "outputs": [
    {
     "name": "stderr",
     "output_type": "stream",
     "text": [
      "c:\\Users\\theoj\\anaconda3\\lib\\site-packages\\IPython\\core\\interactiveshell.py:3146: DtypeWarning: Columns (14) have mixed types.Specify dtype option on import or set low_memory=False.\n",
      "  has_raised = await self.run_ast_nodes(code_ast.body, cell_name,\n"
     ]
    },
    {
     "data": {
      "text/html": [
       "<div>\n",
       "<style scoped>\n",
       "    .dataframe tbody tr th:only-of-type {\n",
       "        vertical-align: middle;\n",
       "    }\n",
       "\n",
       "    .dataframe tbody tr th {\n",
       "        vertical-align: top;\n",
       "    }\n",
       "\n",
       "    .dataframe thead th {\n",
       "        text-align: right;\n",
       "    }\n",
       "</style>\n",
       "<table border=\"1\" class=\"dataframe\">\n",
       "  <thead>\n",
       "    <tr style=\"text-align: right;\">\n",
       "      <th></th>\n",
       "      <th>Academic Year</th>\n",
       "      <th>Mobility Start Month</th>\n",
       "      <th>Mobility End Month</th>\n",
       "      <th>Mobility Duration</th>\n",
       "      <th>Activity (mob)</th>\n",
       "      <th>Field of Education</th>\n",
       "      <th>Participant Nationality</th>\n",
       "      <th>Education Level</th>\n",
       "      <th>Participant Gender</th>\n",
       "      <th>Participant Profile</th>\n",
       "      <th>Special Needs</th>\n",
       "      <th>Fewer Opportunities</th>\n",
       "      <th>GroupLeader</th>\n",
       "      <th>Participant Age</th>\n",
       "      <th>Sending Country Code</th>\n",
       "      <th>Sending City</th>\n",
       "      <th>Sending Organization</th>\n",
       "      <th>Receiving Country Code</th>\n",
       "      <th>Receiving City</th>\n",
       "      <th>Receiving Organization</th>\n",
       "      <th>Participants</th>\n",
       "    </tr>\n",
       "  </thead>\n",
       "  <tbody>\n",
       "    <tr>\n",
       "      <th>0</th>\n",
       "      <td>2014-2015</td>\n",
       "      <td>2014-07</td>\n",
       "      <td>2014-07</td>\n",
       "      <td>12.0</td>\n",
       "      <td>Staff training abroad</td>\n",
       "      <td>Language acquisition</td>\n",
       "      <td>AT</td>\n",
       "      <td>??? - ? Unknown ?</td>\n",
       "      <td>Female</td>\n",
       "      <td>Staff</td>\n",
       "      <td>No</td>\n",
       "      <td>No</td>\n",
       "      <td>No</td>\n",
       "      <td>42</td>\n",
       "      <td>AT</td>\n",
       "      <td>Wels</td>\n",
       "      <td>BRG Wels Wallererstraße</td>\n",
       "      <td>ES</td>\n",
       "      <td>Malaga</td>\n",
       "      <td>Escuela de Idiomas Nerja</td>\n",
       "      <td>1.0</td>\n",
       "    </tr>\n",
       "    <tr>\n",
       "      <th>1</th>\n",
       "      <td>2014-2015</td>\n",
       "      <td>2014-07</td>\n",
       "      <td>2014-08</td>\n",
       "      <td>7.0</td>\n",
       "      <td>Staff training abroad</td>\n",
       "      <td>Language acquisition</td>\n",
       "      <td>AT</td>\n",
       "      <td>??? - ? Unknown ?</td>\n",
       "      <td>Female</td>\n",
       "      <td>Staff</td>\n",
       "      <td>No</td>\n",
       "      <td>No</td>\n",
       "      <td>No</td>\n",
       "      <td>25</td>\n",
       "      <td>AT</td>\n",
       "      <td>Wels</td>\n",
       "      <td>BRG Wels Wallererstraße</td>\n",
       "      <td>UK</td>\n",
       "      <td>Canterbury</td>\n",
       "      <td>Pilgrims LTD</td>\n",
       "      <td>1.0</td>\n",
       "    </tr>\n",
       "    <tr>\n",
       "      <th>2</th>\n",
       "      <td>2014-2015</td>\n",
       "      <td>2014-07</td>\n",
       "      <td>2014-08</td>\n",
       "      <td>12.0</td>\n",
       "      <td>Staff training abroad</td>\n",
       "      <td>Language acquisition</td>\n",
       "      <td>AT</td>\n",
       "      <td>??? - ? Unknown ?</td>\n",
       "      <td>Female</td>\n",
       "      <td>Staff</td>\n",
       "      <td>No</td>\n",
       "      <td>No</td>\n",
       "      <td>No</td>\n",
       "      <td>51</td>\n",
       "      <td>AT</td>\n",
       "      <td>Wels</td>\n",
       "      <td>BRG Wels Wallererstraße</td>\n",
       "      <td>UK</td>\n",
       "      <td>London</td>\n",
       "      <td>St. Giles International</td>\n",
       "      <td>1.0</td>\n",
       "    </tr>\n",
       "    <tr>\n",
       "      <th>3</th>\n",
       "      <td>2014-2015</td>\n",
       "      <td>2014-08</td>\n",
       "      <td>2014-08</td>\n",
       "      <td>12.0</td>\n",
       "      <td>Staff training abroad</td>\n",
       "      <td>Language acquisition</td>\n",
       "      <td>CZ</td>\n",
       "      <td>??? - ? Unknown ?</td>\n",
       "      <td>Female</td>\n",
       "      <td>Staff</td>\n",
       "      <td>No</td>\n",
       "      <td>No</td>\n",
       "      <td>No</td>\n",
       "      <td>34</td>\n",
       "      <td>AT</td>\n",
       "      <td>Wels</td>\n",
       "      <td>BRG Wels Wallererstraße</td>\n",
       "      <td>UK</td>\n",
       "      <td>London</td>\n",
       "      <td>EF Language Center</td>\n",
       "      <td>1.0</td>\n",
       "    </tr>\n",
       "    <tr>\n",
       "      <th>4</th>\n",
       "      <td>2014-2015</td>\n",
       "      <td>2014-07</td>\n",
       "      <td>2014-07</td>\n",
       "      <td>12.0</td>\n",
       "      <td>Staff training abroad</td>\n",
       "      <td>Teacher training with subject specialization</td>\n",
       "      <td>AT</td>\n",
       "      <td>??? - ? Unknown ?</td>\n",
       "      <td>Female</td>\n",
       "      <td>Staff</td>\n",
       "      <td>No</td>\n",
       "      <td>No</td>\n",
       "      <td>No</td>\n",
       "      <td>53</td>\n",
       "      <td>AT</td>\n",
       "      <td>Schwarzach</td>\n",
       "      <td>Volksschule Schwarzach</td>\n",
       "      <td>IE</td>\n",
       "      <td>Dublin</td>\n",
       "      <td>Centre of English Studies</td>\n",
       "      <td>1.0</td>\n",
       "    </tr>\n",
       "    <tr>\n",
       "      <th>...</th>\n",
       "      <td>...</td>\n",
       "      <td>...</td>\n",
       "      <td>...</td>\n",
       "      <td>...</td>\n",
       "      <td>...</td>\n",
       "      <td>...</td>\n",
       "      <td>...</td>\n",
       "      <td>...</td>\n",
       "      <td>...</td>\n",
       "      <td>...</td>\n",
       "      <td>...</td>\n",
       "      <td>...</td>\n",
       "      <td>...</td>\n",
       "      <td>...</td>\n",
       "      <td>...</td>\n",
       "      <td>...</td>\n",
       "      <td>...</td>\n",
       "      <td>...</td>\n",
       "      <td>...</td>\n",
       "      <td>...</td>\n",
       "      <td>...</td>\n",
       "    </tr>\n",
       "    <tr>\n",
       "      <th>3462263</th>\n",
       "      <td>2019-2020</td>\n",
       "      <td>2019-09</td>\n",
       "      <td>2019-10</td>\n",
       "      <td>7.0</td>\n",
       "      <td>Mobility of youth workers - Programme Countries</td>\n",
       "      <td>? Unknown ?</td>\n",
       "      <td>TR</td>\n",
       "      <td>??? - ? Unknown ?</td>\n",
       "      <td>Female</td>\n",
       "      <td>Staff</td>\n",
       "      <td>No</td>\n",
       "      <td>Yes</td>\n",
       "      <td>Yes</td>\n",
       "      <td>24</td>\n",
       "      <td>UK</td>\n",
       "      <td>London</td>\n",
       "      <td>YOUTH INNOVATION LTD</td>\n",
       "      <td>UK</td>\n",
       "      <td>London</td>\n",
       "      <td>YOUTH INNOVATION LTD</td>\n",
       "      <td>1.0</td>\n",
       "    </tr>\n",
       "    <tr>\n",
       "      <th>3462264</th>\n",
       "      <td>2019-2020</td>\n",
       "      <td>2019-09</td>\n",
       "      <td>2019-10</td>\n",
       "      <td>7.0</td>\n",
       "      <td>Mobility of youth workers - Programme Countries</td>\n",
       "      <td>? Unknown ?</td>\n",
       "      <td>UK</td>\n",
       "      <td>??? - ? Unknown ?</td>\n",
       "      <td>Female</td>\n",
       "      <td>Staff</td>\n",
       "      <td>No</td>\n",
       "      <td>Yes</td>\n",
       "      <td>Yes</td>\n",
       "      <td>32</td>\n",
       "      <td>UK</td>\n",
       "      <td>London</td>\n",
       "      <td>YOUTH INNOVATION LTD</td>\n",
       "      <td>UK</td>\n",
       "      <td>London</td>\n",
       "      <td>YOUTH INNOVATION LTD</td>\n",
       "      <td>1.0</td>\n",
       "    </tr>\n",
       "    <tr>\n",
       "      <th>3462265</th>\n",
       "      <td>2019-2020</td>\n",
       "      <td>2019-09</td>\n",
       "      <td>2019-10</td>\n",
       "      <td>7.0</td>\n",
       "      <td>Mobility of youth workers - Programme Countries</td>\n",
       "      <td>? Unknown ?</td>\n",
       "      <td>UK</td>\n",
       "      <td>??? - ? Unknown ?</td>\n",
       "      <td>Female</td>\n",
       "      <td>Staff</td>\n",
       "      <td>No</td>\n",
       "      <td>Yes</td>\n",
       "      <td>No</td>\n",
       "      <td>37</td>\n",
       "      <td>UK</td>\n",
       "      <td>London</td>\n",
       "      <td>YOUTH INNOVATION LTD</td>\n",
       "      <td>UK</td>\n",
       "      <td>London</td>\n",
       "      <td>YOUTH INNOVATION LTD</td>\n",
       "      <td>1.0</td>\n",
       "    </tr>\n",
       "    <tr>\n",
       "      <th>3462266</th>\n",
       "      <td>2019-2020</td>\n",
       "      <td>2019-09</td>\n",
       "      <td>2019-10</td>\n",
       "      <td>7.0</td>\n",
       "      <td>Mobility of youth workers - Programme Countries</td>\n",
       "      <td>? Unknown ?</td>\n",
       "      <td>UK</td>\n",
       "      <td>??? - ? Unknown ?</td>\n",
       "      <td>Male</td>\n",
       "      <td>Staff</td>\n",
       "      <td>No</td>\n",
       "      <td>No</td>\n",
       "      <td>No</td>\n",
       "      <td>41</td>\n",
       "      <td>UK</td>\n",
       "      <td>London</td>\n",
       "      <td>YOUTH INNOVATION LTD</td>\n",
       "      <td>UK</td>\n",
       "      <td>London</td>\n",
       "      <td>YOUTH INNOVATION LTD</td>\n",
       "      <td>1.0</td>\n",
       "    </tr>\n",
       "    <tr>\n",
       "      <th>3462267</th>\n",
       "      <td>2019-2020</td>\n",
       "      <td>2019-09</td>\n",
       "      <td>2019-10</td>\n",
       "      <td>7.0</td>\n",
       "      <td>Mobility of youth workers - Programme Countries</td>\n",
       "      <td>? Unknown ?</td>\n",
       "      <td>UK</td>\n",
       "      <td>??? - ? Unknown ?</td>\n",
       "      <td>Male</td>\n",
       "      <td>Staff</td>\n",
       "      <td>No</td>\n",
       "      <td>Yes</td>\n",
       "      <td>No</td>\n",
       "      <td>37</td>\n",
       "      <td>UK</td>\n",
       "      <td>London</td>\n",
       "      <td>YOUTH INNOVATION LTD</td>\n",
       "      <td>UK</td>\n",
       "      <td>London</td>\n",
       "      <td>YOUTH INNOVATION LTD</td>\n",
       "      <td>1.0</td>\n",
       "    </tr>\n",
       "  </tbody>\n",
       "</table>\n",
       "<p>3462057 rows × 21 columns</p>\n",
       "</div>"
      ],
      "text/plain": [
       "        Academic Year Mobility Start Month Mobility End Month  \\\n",
       "0           2014-2015              2014-07            2014-07   \n",
       "1           2014-2015              2014-07            2014-08   \n",
       "2           2014-2015              2014-07            2014-08   \n",
       "3           2014-2015              2014-08            2014-08   \n",
       "4           2014-2015              2014-07            2014-07   \n",
       "...               ...                  ...                ...   \n",
       "3462263     2019-2020              2019-09            2019-10   \n",
       "3462264     2019-2020              2019-09            2019-10   \n",
       "3462265     2019-2020              2019-09            2019-10   \n",
       "3462266     2019-2020              2019-09            2019-10   \n",
       "3462267     2019-2020              2019-09            2019-10   \n",
       "\n",
       "         Mobility Duration                                   Activity (mob)  \\\n",
       "0                     12.0                            Staff training abroad   \n",
       "1                      7.0                            Staff training abroad   \n",
       "2                     12.0                            Staff training abroad   \n",
       "3                     12.0                            Staff training abroad   \n",
       "4                     12.0                            Staff training abroad   \n",
       "...                    ...                                              ...   \n",
       "3462263                7.0  Mobility of youth workers - Programme Countries   \n",
       "3462264                7.0  Mobility of youth workers - Programme Countries   \n",
       "3462265                7.0  Mobility of youth workers - Programme Countries   \n",
       "3462266                7.0  Mobility of youth workers - Programme Countries   \n",
       "3462267                7.0  Mobility of youth workers - Programme Countries   \n",
       "\n",
       "                                   Field of Education Participant Nationality  \\\n",
       "0                                Language acquisition                      AT   \n",
       "1                                Language acquisition                      AT   \n",
       "2                                Language acquisition                      AT   \n",
       "3                                Language acquisition                      CZ   \n",
       "4        Teacher training with subject specialization                      AT   \n",
       "...                                               ...                     ...   \n",
       "3462263                                   ? Unknown ?                      TR   \n",
       "3462264                                   ? Unknown ?                      UK   \n",
       "3462265                                   ? Unknown ?                      UK   \n",
       "3462266                                   ? Unknown ?                      UK   \n",
       "3462267                                   ? Unknown ?                      UK   \n",
       "\n",
       "           Education Level Participant Gender Participant Profile  \\\n",
       "0        ??? - ? Unknown ?             Female               Staff   \n",
       "1        ??? - ? Unknown ?             Female               Staff   \n",
       "2        ??? - ? Unknown ?             Female               Staff   \n",
       "3        ??? - ? Unknown ?             Female               Staff   \n",
       "4        ??? - ? Unknown ?             Female               Staff   \n",
       "...                    ...                ...                 ...   \n",
       "3462263  ??? - ? Unknown ?             Female               Staff   \n",
       "3462264  ??? - ? Unknown ?             Female               Staff   \n",
       "3462265  ??? - ? Unknown ?             Female               Staff   \n",
       "3462266  ??? - ? Unknown ?               Male               Staff   \n",
       "3462267  ??? - ? Unknown ?               Male               Staff   \n",
       "\n",
       "        Special Needs Fewer Opportunities GroupLeader Participant Age  \\\n",
       "0                  No                  No          No              42   \n",
       "1                  No                  No          No              25   \n",
       "2                  No                  No          No              51   \n",
       "3                  No                  No          No              34   \n",
       "4                  No                  No          No              53   \n",
       "...               ...                 ...         ...             ...   \n",
       "3462263            No                 Yes         Yes              24   \n",
       "3462264            No                 Yes         Yes              32   \n",
       "3462265            No                 Yes          No              37   \n",
       "3462266            No                  No          No              41   \n",
       "3462267            No                 Yes          No              37   \n",
       "\n",
       "        Sending Country Code Sending City     Sending Organization  \\\n",
       "0                         AT         Wels  BRG Wels Wallererstraße   \n",
       "1                         AT         Wels  BRG Wels Wallererstraße   \n",
       "2                         AT         Wels  BRG Wels Wallererstraße   \n",
       "3                         AT         Wels  BRG Wels Wallererstraße   \n",
       "4                         AT   Schwarzach   Volksschule Schwarzach   \n",
       "...                      ...          ...                      ...   \n",
       "3462263                   UK       London     YOUTH INNOVATION LTD   \n",
       "3462264                   UK       London     YOUTH INNOVATION LTD   \n",
       "3462265                   UK       London     YOUTH INNOVATION LTD   \n",
       "3462266                   UK       London     YOUTH INNOVATION LTD   \n",
       "3462267                   UK       London     YOUTH INNOVATION LTD   \n",
       "\n",
       "        Receiving Country Code Receiving City     Receiving Organization  \\\n",
       "0                           ES         Malaga   Escuela de Idiomas Nerja   \n",
       "1                           UK     Canterbury               Pilgrims LTD   \n",
       "2                           UK         London    St. Giles International   \n",
       "3                           UK         London         EF Language Center   \n",
       "4                           IE         Dublin  Centre of English Studies   \n",
       "...                        ...            ...                        ...   \n",
       "3462263                     UK         London       YOUTH INNOVATION LTD   \n",
       "3462264                     UK         London       YOUTH INNOVATION LTD   \n",
       "3462265                     UK         London       YOUTH INNOVATION LTD   \n",
       "3462266                     UK         London       YOUTH INNOVATION LTD   \n",
       "3462267                     UK         London       YOUTH INNOVATION LTD   \n",
       "\n",
       "         Participants  \n",
       "0                 1.0  \n",
       "1                 1.0  \n",
       "2                 1.0  \n",
       "3                 1.0  \n",
       "4                 1.0  \n",
       "...               ...  \n",
       "3462263           1.0  \n",
       "3462264           1.0  \n",
       "3462265           1.0  \n",
       "3462266           1.0  \n",
       "3462267           1.0  \n",
       "\n",
       "[3462057 rows x 21 columns]"
      ]
     },
     "execution_count": 2,
     "metadata": {},
     "output_type": "execute_result"
    }
   ],
   "source": [
    "#erasmus_df = pd.read_csv(\"Erasmus_mobility_statistics_2014_2019.csv\",sep=',',low_memory=False)\n",
    "zf = zipfile.ZipFile('Erasmus_mobility_statistics_2014_2019.zip') \n",
    "erasmus_df = pd.read_csv(zf.open('Erasmus_mobility_statistics_2014_2019.csv'))\n",
    "pd.set_option('display.max_columns', None)\n",
    "\n",
    "erasmus_df=erasmus_df.dropna()\n",
    "erasmus_df = erasmus_df.drop(columns = ['Project Reference','Sending Organisation Erasmus Code','Receiving Organisation Erasmus Code'])\n",
    "\n",
    "erasmus_df"
   ]
  },
  {
   "cell_type": "markdown",
   "metadata": {},
   "source": [
    "### Cleaning and dropping columns"
   ]
  },
  {
   "cell_type": "code",
   "execution_count": 3,
   "metadata": {},
   "outputs": [],
   "source": [
    "def drop_ages(x):\n",
    "    if int(x) > 70 or int(x) < 10:\n",
    "        return np.nan\n",
    "    else:\n",
    "        return x"
   ]
  },
  {
   "cell_type": "code",
   "execution_count": 4,
   "metadata": {},
   "outputs": [
    {
     "name": "stderr",
     "output_type": "stream",
     "text": [
      "<ipython-input-4-c2696e040407>:5: SettingWithCopyWarning: \n",
      "A value is trying to be set on a copy of a slice from a DataFrame.\n",
      "Try using .loc[row_indexer,col_indexer] = value instead\n",
      "\n",
      "See the caveats in the documentation: https://pandas.pydata.org/pandas-docs/stable/user_guide/indexing.html#returning-a-view-versus-a-copy\n",
      "  erasmus_df['Participant Age'] = erasmus_df['Participant Age'].map(drop_ages)\n"
     ]
    }
   ],
   "source": [
    "#Delete the staff an teaching to focus on students\n",
    "erasmus_df = erasmus_df[erasmus_df['Participant Profile']!='Staff']\n",
    "\n",
    "#Cleaning the columns\n",
    "erasmus_df['Participant Age'] = erasmus_df['Participant Age'].map(drop_ages)\n",
    "erasmus_df=erasmus_df.dropna()\n",
    "\n",
    "erasmus_df = erasmus_df[erasmus_df['Mobility Duration']<=500]\n",
    "\n",
    "erasmus_df = erasmus_df[erasmus_df['Participant Nationality'] != '-']\n",
    "\n",
    "erasmus_df['Field of Education'] = erasmus_df['Field of Education'].replace(\"? Unknown ?\",\"Other\")\n",
    "\n",
    "erasmus_df['Education Level'] = erasmus_df['Education Level'].replace(\"? Unknown ?\",\"Unknown\")\n",
    "erasmus_df['Education Level'] = erasmus_df['Education Level'].replace(\"??? - ? Unknown ?\",\"Unknown\")\n",
    "\n",
    "#Datatype changes\n",
    "erasmus_df['Participant Age'] = erasmus_df['Participant Age'].astype('int')\n",
    "erasmus_df['Mobility Duration'] = erasmus_df['Mobility Duration'].astype('int')\n",
    "erasmus_df['Participants'] = erasmus_df['Participants'].astype('int')"
   ]
  },
  {
   "cell_type": "code",
   "execution_count": 5,
   "metadata": {},
   "outputs": [
    {
     "name": "stdout",
     "output_type": "stream",
     "text": [
      "There are  2662070  exchange students in our Dataset\n",
      "There are 21 features (columns) in our dataset\n"
     ]
    }
   ],
   "source": [
    "print(\"There are  {}  exchange students in our Dataset\".format(len(erasmus_df))) \n",
    "print(\"There are {} features (columns) in our dataset\".format(len(erasmus_df.columns)))"
   ]
  },
  {
   "cell_type": "markdown",
   "metadata": {},
   "source": [
    "## Data Analysis"
   ]
  },
  {
   "cell_type": "code",
   "execution_count": 6,
   "metadata": {},
   "outputs": [],
   "source": [
    "#erasmus_df.groupby('Mobility Duration').count().plot(y='Academic Year',kind='bar',figsize=(15,8),title='Days of exchange')"
   ]
  },
  {
   "cell_type": "code",
   "execution_count": 7,
   "metadata": {},
   "outputs": [
    {
     "data": {
      "image/png": "[encoded data removed]",
      "text/plain": [
       "<Figure size 1080x576 with 1 Axes>"
      ]
     },
     "metadata": {
      "needs_background": "light"
     },
     "output_type": "display_data"
    }
   ],
   "source": [
    "fig, axs = plt.subplots()\n",
    "fig.set_size_inches([15, 8])\n",
    "\n",
    "\n",
    "axs.hist(erasmus_df['Participant Age'],color=\"#004494\")\n",
    "\n",
    "axs.set_title(\"Data Distribution of Participant Age\", fontsize=20)\n",
    "axs.set_xticks([i for i in range(10,70,3)])\n",
    "axs.set_xlabel(\"Participant Age\", color=\"#004494\", fontsize=17)\n",
    "axs.set_ylabel(\"Count of Participant Age\", color=\"#004494\", fontsize=17)\n",
    "\n",
    "plt.show()"
   ]
  },
  {
   "cell_type": "code",
   "execution_count": 8,
   "metadata": {},
   "outputs": [
    {
     "data": {
      "image/png": "[encoded data removed]",
      "text/plain": [
       "<Figure size 1080x576 with 1 Axes>"
      ]
     },
     "metadata": {
      "needs_background": "light"
     },
     "output_type": "display_data"
    }
   ],
   "source": [
    "fig, axs = plt.subplots()\n",
    "fig.set_size_inches([15, 8])\n",
    "\n",
    "\n",
    "axs.hist(erasmus_df['Mobility Duration'],color=\"#004494\")\n",
    "\n",
    "axs.set_title(\"Data Distribution of Mobility Duration\", fontsize=20)\n",
    "axs.set_xticks([i for i in range(0,420,10)])\n",
    "axs.set_xlabel(\"Mobility Duration\", color=\"#004494\", fontsize=17)\n",
    "axs.set_ylabel(\"Count of Mobility Duration\", color=\"#004494\", fontsize=17)\n",
    "\n",
    "plt.show()"
   ]
  },
  {
   "cell_type": "code",
   "execution_count": 9,
   "metadata": {},
   "outputs": [
    {
     "data": {
      "image/png": "[encoded data removed]",
      "text/plain": [
       "<Figure size 1080x576 with 1 Axes>"
      ]
     },
     "metadata": {
      "needs_background": "light"
     },
     "output_type": "display_data"
    }
   ],
   "source": [
    "# Set-up the size and plots \n",
    "plt.figure(figsize=(15,8))\n",
    "\n",
    "gfg = sns.countplot(x = \"Academic Year\", data=erasmus_df, color=\"#004494\")\n",
    "gfg.set(xlabel =\"Academic Year\", \n",
    "        ylabel = \"Count of Academic Year\", \n",
    "        title ='Data Distribution of Academic Year')\n",
    "\n",
    "plt.show()"
   ]
  },
  {
   "cell_type": "code",
   "execution_count": 10,
   "metadata": {},
   "outputs": [
    {
     "data": {
      "text/html": [
       "<div>\n",
       "<style scoped>\n",
       "    .dataframe tbody tr th:only-of-type {\n",
       "        vertical-align: middle;\n",
       "    }\n",
       "\n",
       "    .dataframe tbody tr th {\n",
       "        vertical-align: top;\n",
       "    }\n",
       "\n",
       "    .dataframe thead th {\n",
       "        text-align: right;\n",
       "    }\n",
       "</style>\n",
       "<table border=\"1\" class=\"dataframe\">\n",
       "  <thead>\n",
       "    <tr style=\"text-align: right;\">\n",
       "      <th></th>\n",
       "      <th>Participant Age</th>\n",
       "    </tr>\n",
       "    <tr>\n",
       "      <th>Activity (mob)</th>\n",
       "      <th></th>\n",
       "    </tr>\n",
       "  </thead>\n",
       "  <tbody>\n",
       "    <tr>\n",
       "      <th>Advance Planning Visit</th>\n",
       "      <td>30.0</td>\n",
       "    </tr>\n",
       "    <tr>\n",
       "      <th>Advance Planning Visit - EVS</th>\n",
       "      <td>29.0</td>\n",
       "    </tr>\n",
       "    <tr>\n",
       "      <th>Advance Planning Visit - Erasmus- PRO</th>\n",
       "      <td>46.0</td>\n",
       "    </tr>\n",
       "    <tr>\n",
       "      <th>Advance Planning Visit – EVS</th>\n",
       "      <td>30.0</td>\n",
       "    </tr>\n",
       "    <tr>\n",
       "      <th>Advance Planning Visit – Youth Exchange</th>\n",
       "      <td>29.0</td>\n",
       "    </tr>\n",
       "    <tr>\n",
       "      <th>ErasmusPro - Mobility of VET learners (3 to 12 months)</th>\n",
       "      <td>21.0</td>\n",
       "    </tr>\n",
       "    <tr>\n",
       "      <th>European Voluntary Service - Partner Countries</th>\n",
       "      <td>24.0</td>\n",
       "    </tr>\n",
       "    <tr>\n",
       "      <th>European Voluntary Service - Programme Countries</th>\n",
       "      <td>23.0</td>\n",
       "    </tr>\n",
       "    <tr>\n",
       "      <th>Group Volunteering Activities</th>\n",
       "      <td>23.0</td>\n",
       "    </tr>\n",
       "    <tr>\n",
       "      <th>Individual Volunteering Activities</th>\n",
       "      <td>23.0</td>\n",
       "    </tr>\n",
       "    <tr>\n",
       "      <th>Mobility of VET learners (2 weeks up to 3 months)</th>\n",
       "      <td>23.0</td>\n",
       "    </tr>\n",
       "    <tr>\n",
       "      <th>Student mobility for Studies To/From Partner Countries</th>\n",
       "      <td>23.0</td>\n",
       "    </tr>\n",
       "    <tr>\n",
       "      <th>Student mobility for studies between Programme Countries</th>\n",
       "      <td>22.0</td>\n",
       "    </tr>\n",
       "    <tr>\n",
       "      <th>Student mobility for traineeships To/From Partner Countries</th>\n",
       "      <td>25.0</td>\n",
       "    </tr>\n",
       "    <tr>\n",
       "      <th>Student mobility for traineeships between Programme Countries</th>\n",
       "      <td>23.0</td>\n",
       "    </tr>\n",
       "    <tr>\n",
       "      <th>VET learners traineeships in companies abroad</th>\n",
       "      <td>22.0</td>\n",
       "    </tr>\n",
       "    <tr>\n",
       "      <th>VET learners traineeships in vocational institutes abroad</th>\n",
       "      <td>23.0</td>\n",
       "    </tr>\n",
       "    <tr>\n",
       "      <th>Youth Exchanges - Partner Countries</th>\n",
       "      <td>23.0</td>\n",
       "    </tr>\n",
       "    <tr>\n",
       "      <th>Youth Exchanges - Programme Countries</th>\n",
       "      <td>23.0</td>\n",
       "    </tr>\n",
       "  </tbody>\n",
       "</table>\n",
       "</div>"
      ],
      "text/plain": [
       "                                                    Participant Age\n",
       "Activity (mob)                                                     \n",
       "Advance Planning Visit                                         30.0\n",
       "Advance Planning Visit - EVS                                   29.0\n",
       "Advance Planning Visit - Erasmus- PRO                          46.0\n",
       "Advance Planning Visit – EVS                                   30.0\n",
       "Advance Planning Visit – Youth Exchange                        29.0\n",
       "ErasmusPro - Mobility of VET learners (3 to 12 ...             21.0\n",
       "European Voluntary Service - Partner Countries                 24.0\n",
       "European Voluntary Service - Programme Countries               23.0\n",
       "Group Volunteering Activities                                  23.0\n",
       "Individual Volunteering Activities                             23.0\n",
       "Mobility of VET learners (2 weeks up to 3 months)              23.0\n",
       "Student mobility for Studies To/From Partner Co...             23.0\n",
       "Student mobility for studies between Programme ...             22.0\n",
       "Student mobility for traineeships To/From Partn...             25.0\n",
       "Student mobility for traineeships between Progr...             23.0\n",
       "VET learners traineeships in companies abroad                  22.0\n",
       "VET learners traineeships in vocational institu...             23.0\n",
       "Youth Exchanges - Partner Countries                            23.0\n",
       "Youth Exchanges - Programme Countries                          23.0"
      ]
     },
     "execution_count": 10,
     "metadata": {},
     "output_type": "execute_result"
    }
   ],
   "source": [
    "mean_ages_from_activity = erasmus_df[['Participant Age','Activity (mob)']].dropna()\n",
    "mean_ages_from_activity['Participant Age'] = mean_ages_from_activity['Participant Age'].astype('int')\n",
    "mean_ages_from_activity = round(mean_ages_from_activity.groupby('Activity (mob)').mean())\n",
    "\n",
    "mean_ages_from_activity"
   ]
  },
  {
   "cell_type": "code",
   "execution_count": 11,
   "metadata": {},
   "outputs": [
    {
     "data": {
      "text/plain": [
       "Participant Nationality\n",
       "DE    321572\n",
       "FR    321030\n",
       "ES    280083\n",
       "IT    271013\n",
       "TR    136507\n",
       "Name: Participants, dtype: int64"
      ]
     },
     "execution_count": 11,
     "metadata": {},
     "output_type": "execute_result"
    }
   ],
   "source": [
    "erasmus_df.groupby('Participant Nationality').count().sort_values(by='Academic Year',ascending=False).head().Participants"
   ]
  },
  {
   "cell_type": "code",
   "execution_count": 12,
   "metadata": {},
   "outputs": [
    {
     "data": {
      "text/plain": [
       "Sending Country Code\n",
       "FR    332016\n",
       "DE    326163\n",
       "ES    286320\n",
       "IT    273530\n",
       "TR    137250\n",
       "Name: Participants, dtype: int64"
      ]
     },
     "execution_count": 12,
     "metadata": {},
     "output_type": "execute_result"
    }
   ],
   "source": [
    "erasmus_df.groupby('Sending Country Code').count().sort_values(by='Academic Year',ascending=False).head().Participants"
   ]
  },
  {
   "cell_type": "code",
   "execution_count": 13,
   "metadata": {},
   "outputs": [
    {
     "data": {
      "text/plain": [
       "Receiving Country Code\n",
       "ES    368757\n",
       "DE    261891\n",
       "UK    243141\n",
       "IT    224837\n",
       "FR    203181\n",
       "Name: Participants, dtype: int64"
      ]
     },
     "execution_count": 13,
     "metadata": {},
     "output_type": "execute_result"
    }
   ],
   "source": [
    "erasmus_df.groupby('Receiving Country Code').count().sort_values(by='Academic Year',ascending=False).head().Participants"
   ]
  },
  {
   "cell_type": "code",
   "execution_count": 14,
   "metadata": {},
   "outputs": [
    {
     "data": {
      "text/plain": [
       "Receiving City\n",
       "London       35110\n",
       "Barcelona    26928\n",
       "Berlin       24727\n",
       "Madrid       21315\n",
       "Paris        21128\n",
       "Name: Participants, dtype: int64"
      ]
     },
     "execution_count": 14,
     "metadata": {},
     "output_type": "execute_result"
    }
   ],
   "source": [
    "erasmus_df.groupby('Receiving City').count().sort_values(by='Academic Year',ascending=False).head().Participants"
   ]
  },
  {
   "cell_type": "code",
   "execution_count": 15,
   "metadata": {},
   "outputs": [
    {
     "data": {
      "text/plain": [
       "Sending City\n",
       "Budapest    21238\n",
       "MADRID      20615\n",
       "MILANO      19663\n",
       "VALENCIA    18771\n",
       "Paris       18530\n",
       "Name: Participants, dtype: int64"
      ]
     },
     "execution_count": 15,
     "metadata": {},
     "output_type": "execute_result"
    }
   ],
   "source": [
    "erasmus_df.groupby('Sending City').count().sort_values(by='Academic Year',ascending=False).head().Participants"
   ]
  },
  {
   "cell_type": "code",
   "execution_count": 16,
   "metadata": {},
   "outputs": [
    {
     "data": {
      "text/plain": [
       "Receiving Organization\n",
       "UNIVERSITAT DE VALENCIA                         11732\n",
       "ALMA MATER STUDIORUM - UNIVERSITA DI BOLOGNA    11685\n",
       "UNIVERSIDAD DE GRANADA                          10826\n",
       "UNIVERSIDADE DE LISBOA                          10742\n",
       "UNIVERSIDAD COMPLUTENSE DE MADRID                9603\n",
       "Name: Participants, dtype: int64"
      ]
     },
     "execution_count": 16,
     "metadata": {},
     "output_type": "execute_result"
    }
   ],
   "source": [
    "erasmus_df.groupby('Receiving Organization').count().sort_values(by='Academic Year',ascending=False).head().Participants"
   ]
  },
  {
   "cell_type": "code",
   "execution_count": 17,
   "metadata": {},
   "outputs": [
    {
     "data": {
      "text/plain": [
       "Sending Organization\n",
       "ALMA MATER STUDIORUM - UNIVERSITA DI BOLOGNA    14744\n",
       "UNIVERSIDAD DE GRANADA                          11599\n",
       "UNIVERSITA DEGLI STUDI DI PADOVA                 9960\n",
       "UNIVERSITA DEGLI STUDI DI ROMA LA SAPIENZA       9453\n",
       "UNIVERSIDAD COMPLUTENSE DE MADRID                9375\n",
       "Name: Participants, dtype: int64"
      ]
     },
     "execution_count": 17,
     "metadata": {},
     "output_type": "execute_result"
    }
   ],
   "source": [
    "erasmus_df.groupby('Sending Organization').count().sort_values(by='Academic Year',ascending=False).head().Participants"
   ]
  },
  {
   "cell_type": "code",
   "execution_count": 18,
   "metadata": {},
   "outputs": [
    {
     "data": {
      "text/html": [
       "<div>\n",
       "<style scoped>\n",
       "    .dataframe tbody tr th:only-of-type {\n",
       "        vertical-align: middle;\n",
       "    }\n",
       "\n",
       "    .dataframe tbody tr th {\n",
       "        vertical-align: top;\n",
       "    }\n",
       "\n",
       "    .dataframe thead th {\n",
       "        text-align: right;\n",
       "    }\n",
       "</style>\n",
       "<table border=\"1\" class=\"dataframe\">\n",
       "  <thead>\n",
       "    <tr style=\"text-align: right;\">\n",
       "      <th></th>\n",
       "      <th>Sending Amount</th>\n",
       "      <th>Receiving Amount</th>\n",
       "    </tr>\n",
       "    <tr>\n",
       "      <th>Country</th>\n",
       "      <th></th>\n",
       "      <th></th>\n",
       "    </tr>\n",
       "  </thead>\n",
       "  <tbody>\n",
       "    <tr>\n",
       "      <th>FR</th>\n",
       "      <td>332016</td>\n",
       "      <td>203181</td>\n",
       "    </tr>\n",
       "    <tr>\n",
       "      <th>DE</th>\n",
       "      <td>326163</td>\n",
       "      <td>261891</td>\n",
       "    </tr>\n",
       "    <tr>\n",
       "      <th>ES</th>\n",
       "      <td>286320</td>\n",
       "      <td>368757</td>\n",
       "    </tr>\n",
       "    <tr>\n",
       "      <th>IT</th>\n",
       "      <td>273530</td>\n",
       "      <td>224837</td>\n",
       "    </tr>\n",
       "    <tr>\n",
       "      <th>TR</th>\n",
       "      <td>137250</td>\n",
       "      <td>60850</td>\n",
       "    </tr>\n",
       "    <tr>\n",
       "      <th>PL</th>\n",
       "      <td>134010</td>\n",
       "      <td>139602</td>\n",
       "    </tr>\n",
       "    <tr>\n",
       "      <th>UK</th>\n",
       "      <td>123341</td>\n",
       "      <td>243141</td>\n",
       "    </tr>\n",
       "    <tr>\n",
       "      <th>NL</th>\n",
       "      <td>105044</td>\n",
       "      <td>91496</td>\n",
       "    </tr>\n",
       "    <tr>\n",
       "      <th>RO</th>\n",
       "      <td>78117</td>\n",
       "      <td>52915</td>\n",
       "    </tr>\n",
       "    <tr>\n",
       "      <th>PT</th>\n",
       "      <td>72720</td>\n",
       "      <td>115357</td>\n",
       "    </tr>\n",
       "  </tbody>\n",
       "</table>\n",
       "</div>"
      ],
      "text/plain": [
       "         Sending Amount  Receiving Amount\n",
       "Country                                  \n",
       "FR               332016            203181\n",
       "DE               326163            261891\n",
       "ES               286320            368757\n",
       "IT               273530            224837\n",
       "TR               137250             60850\n",
       "PL               134010            139602\n",
       "UK               123341            243141\n",
       "NL               105044             91496\n",
       "RO                78117             52915\n",
       "PT                72720            115357"
      ]
     },
     "execution_count": 18,
     "metadata": {},
     "output_type": "execute_result"
    }
   ],
   "source": [
    "sending = erasmus_df['Sending Country Code'].value_counts().to_frame().reset_index()\n",
    "receiving = erasmus_df['Receiving Country Code'].value_counts().to_frame().reset_index()\n",
    "\n",
    "sending_receiving = sending.merge(receiving)\n",
    "sending_receiving = sending_receiving.rename(columns = {\"index\":\"Country\",\n",
    "                                                        \"Sending Country Code\":\"Sending Amount\",\n",
    "                                                        \"Receiving Country Code\":\"Receiving Amount\"})\n",
    "# Get only the bigest 10 country\n",
    "sending_receiving = sending_receiving.head(10)\n",
    "\n",
    "sending_receiving = sending_receiving.set_index('Country')\n",
    "sending_receiving"
   ]
  },
  {
   "cell_type": "code",
   "execution_count": 19,
   "metadata": {},
   "outputs": [
    {
     "data": {
      "image/png": "[encoded data removed]",
      "text/plain": [
       "<Figure size 1080x576 with 1 Axes>"
      ]
     },
     "metadata": {
      "needs_background": "light"
     },
     "output_type": "display_data"
    }
   ],
   "source": [
    "ax = sending_receiving.plot(kind='bar', figsize=(15, 8), rot=0)\n",
    "ax.set_title('Sending and Receiving Amount by Country')\n",
    "ax.set_xlabel('Country')\n",
    "ax.set_ylabel('Amount')\n",
    "plt.xticks(rotation=90)\n",
    "plt.show()"
   ]
  },
  {
   "cell_type": "code",
   "execution_count": 20,
   "metadata": {},
   "outputs": [
    {
     "data": {
      "image/png": "[encoded data removed]",
      "text/plain": [
       "<Figure size 1080x576 with 1 Axes>"
      ]
     },
     "metadata": {
      "needs_background": "light"
     },
     "output_type": "display_data"
    }
   ],
   "source": [
    "# group the dataframe by year and activity\n",
    "grouped = erasmus_df[['Academic Year','Education Level']]\n",
    "grouped = grouped[grouped['Education Level']!='Unknown']\n",
    "grouped = grouped.groupby(['Academic Year', 'Education Level']).size().unstack(fill_value=0)\n",
    "\n",
    "# create a stacked bar chart\n",
    "fig, axs = plt.subplots(figsize=(15, 8))\n",
    "\n",
    "grouped.plot(kind='bar', stacked=True, ax = axs)\n",
    "\n",
    "# set the x-label and y-label\n",
    "axs.set_xlabel('Academic Year')\n",
    "axs.set_ylabel('Count')\n",
    "\n",
    "# display the plot\n",
    "plt.show()\n",
    "grouped = None"
   ]
  },
  {
   "cell_type": "code",
   "execution_count": 21,
   "metadata": {},
   "outputs": [
    {
     "data": {
      "text/plain": [
       "Text(0.5, 1.0, 'Special Needs %')"
      ]
     },
     "execution_count": 21,
     "metadata": {},
     "output_type": "execute_result"
    },
    {
     "data": {
      "image/png": "[encoded data removed]",
      "text/plain": [
       "<Figure size 1080x576 with 4 Axes>"
      ]
     },
     "metadata": {
      "needs_background": "light"
     },
     "output_type": "display_data"
    }
   ],
   "source": [
    "fig, axs = plt.subplots(2, 2)\n",
    "fig.set_size_inches([15, 8])\n",
    "\n",
    "# Gender \n",
    "gender = erasmus_df['Participant Gender'].value_counts()\n",
    "axs[0, 0].pie(gender.values,\n",
    "              labels = gender.index,\n",
    "              wedgeprops=dict(width=0.5),\n",
    "              autopct='%1.1f%%')\n",
    "axs[0, 0].set_title('Gender %')\n",
    "\n",
    "# Field of education\n",
    "FieldofEducation = erasmus_df['Field of Education'].value_counts().head(5)\n",
    "axs[0,1].pie(FieldofEducation.values,\n",
    "              labels = FieldofEducation.index,\n",
    "              wedgeprops=dict(width=0.5),\n",
    "              autopct='%1.1f%%')\n",
    "axs[0,1].set_title('Field of Education %')\n",
    "\n",
    "\n",
    "# Special Needs\n",
    "SpecialNeeds = erasmus_df['Special Needs'].value_counts()\n",
    "axs[1, 1].pie(SpecialNeeds.values,\n",
    "              labels = SpecialNeeds.index,\n",
    "              wedgeprops=dict(width=0.5),\n",
    "              autopct='%1.1f%%')\n",
    "axs[1, 1].set_title('Special Needs %')"
   ]
  },
  {
   "cell_type": "code",
   "execution_count": null,
   "metadata": {},
   "outputs": [],
   "source": []
  }
 ],
 "metadata": {
  "kernelspec": {
   "display_name": "Python 3",
   "language": "python",
   "name": "python3"
  },
  "language_info": {
   "codemirror_mode": {
    "name": "ipython",
    "version": 3
   },
   "file_extension": ".py",
   "mimetype": "text/x-python",
   "name": "python",
   "nbconvert_exporter": "python",
   "pygments_lexer": "ipython3",
   "version": "3.8.5"
  }
 },
 "nbformat": 4,
 "nbformat_minor": 4
}
